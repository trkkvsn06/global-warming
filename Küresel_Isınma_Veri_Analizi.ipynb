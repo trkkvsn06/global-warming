{
  "nbformat": 4,
  "nbformat_minor": 0,
  "metadata": {
    "colab": {
      "name": "Küresel Isınma Veri Analizi.ipynb",
      "provenance": [],
      "collapsed_sections": [],
      "authorship_tag": "ABX9TyMgYn37hxmUo2Qvc4B75oT5",
      "include_colab_link": true
    },
    "kernelspec": {
      "name": "python3",
      "display_name": "Python 3"
    }
  },
  "cells": [
    {
      "cell_type": "markdown",
      "metadata": {
        "id": "view-in-github",
        "colab_type": "text"
      },
      "source": [
        "<a href=\"https://colab.research.google.com/github/trkkvsn06/global-warming/blob/master/K%C3%BCresel_Is%C4%B1nma_Veri_Analizi.ipynb\" target=\"_parent\"><img src=\"https://colab.research.google.com/assets/colab-badge.svg\" alt=\"Open In Colab\"/></a>"
      ]
    },
    {
      "cell_type": "code",
      "metadata": {
        "id": "CThiRjKwrsk7",
        "colab_type": "code",
        "colab": {}
      },
      "source": [
        "import pandas as pd\n",
        "import numpy as np\n",
        "import matplotlib.pyplot as plt\n",
        "import math"
      ],
      "execution_count": 0,
      "outputs": []
    },
    {
      "cell_type": "code",
      "metadata": {
        "id": "fF6zvd2AsBLx",
        "colab_type": "code",
        "outputId": "e6e57cba-c645-4573-faf7-1b75861fb051",
        "colab": {
          "base_uri": "https://localhost:8080/",
          "height": 419
        }
      },
      "source": [
        "data = pd.read_csv(\"https://raw.githubusercontent.com/trkkvsn06/njfet/master/temperature-anomaly.csv\")\n",
        "data"
      ],
      "execution_count": 0,
      "outputs": [
        {
          "output_type": "execute_result",
          "data": {
            "text/html": [
              "<div>\n",
              "<style scoped>\n",
              "    .dataframe tbody tr th:only-of-type {\n",
              "        vertical-align: middle;\n",
              "    }\n",
              "\n",
              "    .dataframe tbody tr th {\n",
              "        vertical-align: top;\n",
              "    }\n",
              "\n",
              "    .dataframe thead th {\n",
              "        text-align: right;\n",
              "    }\n",
              "</style>\n",
              "<table border=\"1\" class=\"dataframe\">\n",
              "  <thead>\n",
              "    <tr style=\"text-align: right;\">\n",
              "      <th></th>\n",
              "      <th>Entity</th>\n",
              "      <th>Code</th>\n",
              "      <th>Year</th>\n",
              "      <th>Median (℃)</th>\n",
              "      <th>Upper (℃)</th>\n",
              "      <th>Lower (℃)</th>\n",
              "    </tr>\n",
              "  </thead>\n",
              "  <tbody>\n",
              "    <tr>\n",
              "      <th>0</th>\n",
              "      <td>Global</td>\n",
              "      <td>NaN</td>\n",
              "      <td>1850</td>\n",
              "      <td>-0.373</td>\n",
              "      <td>-0.339</td>\n",
              "      <td>-0.425</td>\n",
              "    </tr>\n",
              "    <tr>\n",
              "      <th>1</th>\n",
              "      <td>Global</td>\n",
              "      <td>NaN</td>\n",
              "      <td>1851</td>\n",
              "      <td>-0.218</td>\n",
              "      <td>-0.184</td>\n",
              "      <td>-0.274</td>\n",
              "    </tr>\n",
              "    <tr>\n",
              "      <th>2</th>\n",
              "      <td>Global</td>\n",
              "      <td>NaN</td>\n",
              "      <td>1852</td>\n",
              "      <td>-0.228</td>\n",
              "      <td>-0.196</td>\n",
              "      <td>-0.280</td>\n",
              "    </tr>\n",
              "    <tr>\n",
              "      <th>3</th>\n",
              "      <td>Global</td>\n",
              "      <td>NaN</td>\n",
              "      <td>1853</td>\n",
              "      <td>-0.269</td>\n",
              "      <td>-0.239</td>\n",
              "      <td>-0.321</td>\n",
              "    </tr>\n",
              "    <tr>\n",
              "      <th>4</th>\n",
              "      <td>Global</td>\n",
              "      <td>NaN</td>\n",
              "      <td>1854</td>\n",
              "      <td>-0.248</td>\n",
              "      <td>-0.218</td>\n",
              "      <td>-0.301</td>\n",
              "    </tr>\n",
              "    <tr>\n",
              "      <th>...</th>\n",
              "      <td>...</td>\n",
              "      <td>...</td>\n",
              "      <td>...</td>\n",
              "      <td>...</td>\n",
              "      <td>...</td>\n",
              "      <td>...</td>\n",
              "    </tr>\n",
              "    <tr>\n",
              "      <th>671</th>\n",
              "      <td>Tropics</td>\n",
              "      <td>NaN</td>\n",
              "      <td>2014</td>\n",
              "      <td>0.516</td>\n",
              "      <td>0.562</td>\n",
              "      <td>0.472</td>\n",
              "    </tr>\n",
              "    <tr>\n",
              "      <th>672</th>\n",
              "      <td>Tropics</td>\n",
              "      <td>NaN</td>\n",
              "      <td>2015</td>\n",
              "      <td>0.737</td>\n",
              "      <td>0.781</td>\n",
              "      <td>0.690</td>\n",
              "    </tr>\n",
              "    <tr>\n",
              "      <th>673</th>\n",
              "      <td>Tropics</td>\n",
              "      <td>NaN</td>\n",
              "      <td>2016</td>\n",
              "      <td>0.763</td>\n",
              "      <td>0.806</td>\n",
              "      <td>0.713</td>\n",
              "    </tr>\n",
              "    <tr>\n",
              "      <th>674</th>\n",
              "      <td>Tropics</td>\n",
              "      <td>NaN</td>\n",
              "      <td>2017</td>\n",
              "      <td>0.563</td>\n",
              "      <td>0.607</td>\n",
              "      <td>0.514</td>\n",
              "    </tr>\n",
              "    <tr>\n",
              "      <th>675</th>\n",
              "      <td>Tropics</td>\n",
              "      <td>NaN</td>\n",
              "      <td>2018</td>\n",
              "      <td>0.472</td>\n",
              "      <td>0.517</td>\n",
              "      <td>0.424</td>\n",
              "    </tr>\n",
              "  </tbody>\n",
              "</table>\n",
              "<p>676 rows × 6 columns</p>\n",
              "</div>"
            ],
            "text/plain": [
              "      Entity  Code  Year  Median (℃)  Upper (℃)  Lower (℃)\n",
              "0     Global   NaN  1850      -0.373     -0.339     -0.425\n",
              "1     Global   NaN  1851      -0.218     -0.184     -0.274\n",
              "2     Global   NaN  1852      -0.228     -0.196     -0.280\n",
              "3     Global   NaN  1853      -0.269     -0.239     -0.321\n",
              "4     Global   NaN  1854      -0.248     -0.218     -0.301\n",
              "..       ...   ...   ...         ...        ...        ...\n",
              "671  Tropics   NaN  2014       0.516      0.562      0.472\n",
              "672  Tropics   NaN  2015       0.737      0.781      0.690\n",
              "673  Tropics   NaN  2016       0.763      0.806      0.713\n",
              "674  Tropics   NaN  2017       0.563      0.607      0.514\n",
              "675  Tropics   NaN  2018       0.472      0.517      0.424\n",
              "\n",
              "[676 rows x 6 columns]"
            ]
          },
          "metadata": {
            "tags": []
          },
          "execution_count": 47
        }
      ]
    },
    {
      "cell_type": "code",
      "metadata": {
        "id": "wCTyzwvuv0Cb",
        "colab_type": "code",
        "colab": {}
      },
      "source": [
        "data = data.drop(\"Code\",axis=1)"
      ],
      "execution_count": 0,
      "outputs": []
    },
    {
      "cell_type": "code",
      "metadata": {
        "id": "_THXlc9swZ7T",
        "colab_type": "code",
        "outputId": "624d91b4-d138-4041-d442-b2cf31c2f59e",
        "colab": {
          "base_uri": "https://localhost:8080/",
          "height": 102
        }
      },
      "source": [
        "data.Entity.value_counts()"
      ],
      "execution_count": 0,
      "outputs": [
        {
          "output_type": "execute_result",
          "data": {
            "text/plain": [
              "Tropics                169\n",
              "Global                 169\n",
              "Northern Hemisphere    169\n",
              "Southern Hemisphere    169\n",
              "Name: Entity, dtype: int64"
            ]
          },
          "metadata": {
            "tags": []
          },
          "execution_count": 23
        }
      ]
    },
    {
      "cell_type": "code",
      "metadata": {
        "id": "WzVoR8K0xPm1",
        "colab_type": "code",
        "outputId": "1a0543a2-ca8f-4264-cbd5-2b2b385dd995",
        "colab": {
          "base_uri": "https://localhost:8080/",
          "height": 282
        }
      },
      "source": [
        "plt.plot(data[data[\"Entity\"] == \"Global\"][\"Year\"],data[data[\"Entity\"] == \"Global\"][\"Median (℃)\"])"
      ],
      "execution_count": 0,
      "outputs": [
        {
          "output_type": "execute_result",
          "data": {
            "text/plain": [
              "[<matplotlib.lines.Line2D at 0x7fa08ae18860>]"
            ]
          },
          "metadata": {
            "tags": []
          },
          "execution_count": 26
        },
        {
          "output_type": "display_data",
          "data": {
            "image/png": "[encoded data removed]",
            "text/plain": [
              "<Figure size 432x288 with 1 Axes>"
            ]
          },
          "metadata": {
            "tags": [],
            "needs_background": "light"
          }
        }
      ]
    },
    {
      "cell_type": "code",
      "metadata": {
        "id": "ZjnRzgBi1Ftl",
        "colab_type": "code",
        "outputId": "a382c2ad-d281-4159-b58a-6706b946b24d",
        "colab": {
          "base_uri": "https://localhost:8080/",
          "height": 80
        }
      },
      "source": [
        "data[(data[\"Entity\"] == \"Global\") & (data[\"Year\"] == 1955) ]"
      ],
      "execution_count": 0,
      "outputs": [
        {
          "output_type": "execute_result",
          "data": {
            "text/html": [
              "<div>\n",
              "<style scoped>\n",
              "    .dataframe tbody tr th:only-of-type {\n",
              "        vertical-align: middle;\n",
              "    }\n",
              "\n",
              "    .dataframe tbody tr th {\n",
              "        vertical-align: top;\n",
              "    }\n",
              "\n",
              "    .dataframe thead th {\n",
              "        text-align: right;\n",
              "    }\n",
              "</style>\n",
              "<table border=\"1\" class=\"dataframe\">\n",
              "  <thead>\n",
              "    <tr style=\"text-align: right;\">\n",
              "      <th></th>\n",
              "      <th>Entity</th>\n",
              "      <th>Year</th>\n",
              "      <th>Median (℃)</th>\n",
              "      <th>Upper (℃)</th>\n",
              "      <th>Lower (℃)</th>\n",
              "    </tr>\n",
              "  </thead>\n",
              "  <tbody>\n",
              "    <tr>\n",
              "      <th>105</th>\n",
              "      <td>Global</td>\n",
              "      <td>1955</td>\n",
              "      <td>-0.19</td>\n",
              "      <td>-0.16</td>\n",
              "      <td>-0.222</td>\n",
              "    </tr>\n",
              "  </tbody>\n",
              "</table>\n",
              "</div>"
            ],
            "text/plain": [
              "     Entity  Year  Median (℃)  Upper (℃)  Lower (℃)\n",
              "105  Global  1955       -0.19      -0.16     -0.222"
            ]
          },
          "metadata": {
            "tags": []
          },
          "execution_count": 49
        }
      ]
    },
    {
      "cell_type": "code",
      "metadata": {
        "id": "qDpIq-zd2A5a",
        "colab_type": "code",
        "outputId": "e656c161-6f74-42a5-8a58-1844890385f1",
        "colab": {
          "base_uri": "https://localhost:8080/",
          "height": 221
        }
      },
      "source": [
        "data.info()"
      ],
      "execution_count": 0,
      "outputs": [
        {
          "output_type": "stream",
          "text": [
            "<class 'pandas.core.frame.DataFrame'>\n",
            "RangeIndex: 676 entries, 0 to 675\n",
            "Data columns (total 5 columns):\n",
            " #   Column      Non-Null Count  Dtype  \n",
            "---  ------      --------------  -----  \n",
            " 0   Entity      676 non-null    object \n",
            " 1   Year        676 non-null    int64  \n",
            " 2   Median (℃)  676 non-null    float64\n",
            " 3   Upper (℃)   676 non-null    float64\n",
            " 4   Lower (℃)   676 non-null    float64\n",
            "dtypes: float64(3), int64(1), object(1)\n",
            "memory usage: 26.5+ KB\n"
          ],
          "name": "stdout"
        }
      ]
    },
    {
      "cell_type": "code",
      "metadata": {
        "id": "XFdmLjwr2XFG",
        "colab_type": "code",
        "outputId": "0a0d4021-980a-4b98-9388-b35c3d6a9a26",
        "colab": {
          "base_uri": "https://localhost:8080/",
          "height": 297
        }
      },
      "source": [
        "data.describe()"
      ],
      "execution_count": 0,
      "outputs": [
        {
          "output_type": "execute_result",
          "data": {
            "text/html": [
              "<div>\n",
              "<style scoped>\n",
              "    .dataframe tbody tr th:only-of-type {\n",
              "        vertical-align: middle;\n",
              "    }\n",
              "\n",
              "    .dataframe tbody tr th {\n",
              "        vertical-align: top;\n",
              "    }\n",
              "\n",
              "    .dataframe thead th {\n",
              "        text-align: right;\n",
              "    }\n",
              "</style>\n",
              "<table border=\"1\" class=\"dataframe\">\n",
              "  <thead>\n",
              "    <tr style=\"text-align: right;\">\n",
              "      <th></th>\n",
              "      <th>Year</th>\n",
              "      <th>Median (℃)</th>\n",
              "      <th>Upper (℃)</th>\n",
              "      <th>Lower (℃)</th>\n",
              "    </tr>\n",
              "  </thead>\n",
              "  <tbody>\n",
              "    <tr>\n",
              "      <th>count</th>\n",
              "      <td>676.000000</td>\n",
              "      <td>676.000000</td>\n",
              "      <td>676.000000</td>\n",
              "      <td>676.000000</td>\n",
              "    </tr>\n",
              "    <tr>\n",
              "      <th>mean</th>\n",
              "      <td>1934.000000</td>\n",
              "      <td>-0.085948</td>\n",
              "      <td>-0.046824</td>\n",
              "      <td>-0.132722</td>\n",
              "    </tr>\n",
              "    <tr>\n",
              "      <th>std</th>\n",
              "      <td>48.821368</td>\n",
              "      <td>0.302902</td>\n",
              "      <td>0.300105</td>\n",
              "      <td>0.311442</td>\n",
              "    </tr>\n",
              "    <tr>\n",
              "      <th>min</th>\n",
              "      <td>1850.000000</td>\n",
              "      <td>-0.668000</td>\n",
              "      <td>-0.630000</td>\n",
              "      <td>-0.777000</td>\n",
              "    </tr>\n",
              "    <tr>\n",
              "      <th>25%</th>\n",
              "      <td>1892.000000</td>\n",
              "      <td>-0.302500</td>\n",
              "      <td>-0.265000</td>\n",
              "      <td>-0.358250</td>\n",
              "    </tr>\n",
              "    <tr>\n",
              "      <th>50%</th>\n",
              "      <td>1934.000000</td>\n",
              "      <td>-0.144500</td>\n",
              "      <td>-0.108500</td>\n",
              "      <td>-0.192000</td>\n",
              "    </tr>\n",
              "    <tr>\n",
              "      <th>75%</th>\n",
              "      <td>1976.000000</td>\n",
              "      <td>0.065000</td>\n",
              "      <td>0.089750</td>\n",
              "      <td>0.035000</td>\n",
              "    </tr>\n",
              "    <tr>\n",
              "      <th>max</th>\n",
              "      <td>2018.000000</td>\n",
              "      <td>1.064000</td>\n",
              "      <td>1.096000</td>\n",
              "      <td>1.027000</td>\n",
              "    </tr>\n",
              "  </tbody>\n",
              "</table>\n",
              "</div>"
            ],
            "text/plain": [
              "              Year  Median (℃)   Upper (℃)   Lower (℃)\n",
              "count   676.000000  676.000000  676.000000  676.000000\n",
              "mean   1934.000000   -0.085948   -0.046824   -0.132722\n",
              "std      48.821368    0.302902    0.300105    0.311442\n",
              "min    1850.000000   -0.668000   -0.630000   -0.777000\n",
              "25%    1892.000000   -0.302500   -0.265000   -0.358250\n",
              "50%    1934.000000   -0.144500   -0.108500   -0.192000\n",
              "75%    1976.000000    0.065000    0.089750    0.035000\n",
              "max    2018.000000    1.064000    1.096000    1.027000"
            ]
          },
          "metadata": {
            "tags": []
          },
          "execution_count": 37
        }
      ]
    },
    {
      "cell_type": "code",
      "metadata": {
        "id": "FLDY3A4BKeq0",
        "colab_type": "code",
        "outputId": "0ee2675c-1d45-400c-e6bc-ca1ab437809c",
        "colab": {
          "base_uri": "https://localhost:8080/",
          "height": 419
        }
      },
      "source": [
        "data1 = pd.read_csv(\"https://raw.githubusercontent.com/trkkvsn06/global-warming/master/co2-concentration-long-term.csv\")\n",
        "data1"
      ],
      "execution_count": 0,
      "outputs": [
        {
          "output_type": "execute_result",
          "data": {
            "text/html": [
              "<div>\n",
              "<style scoped>\n",
              "    .dataframe tbody tr th:only-of-type {\n",
              "        vertical-align: middle;\n",
              "    }\n",
              "\n",
              "    .dataframe tbody tr th {\n",
              "        vertical-align: top;\n",
              "    }\n",
              "\n",
              "    .dataframe thead th {\n",
              "        text-align: right;\n",
              "    }\n",
              "</style>\n",
              "<table border=\"1\" class=\"dataframe\">\n",
              "  <thead>\n",
              "    <tr style=\"text-align: right;\">\n",
              "      <th></th>\n",
              "      <th>Entity</th>\n",
              "      <th>Code</th>\n",
              "      <th>Year</th>\n",
              "      <th>CO₂ concentration (parts per million)</th>\n",
              "    </tr>\n",
              "  </thead>\n",
              "  <tbody>\n",
              "    <tr>\n",
              "      <th>0</th>\n",
              "      <td>World</td>\n",
              "      <td>OWID_WRL</td>\n",
              "      <td>803719 BCE</td>\n",
              "      <td>207.29</td>\n",
              "    </tr>\n",
              "    <tr>\n",
              "      <th>1</th>\n",
              "      <td>World</td>\n",
              "      <td>OWID_WRL</td>\n",
              "      <td>803182 BCE</td>\n",
              "      <td>202.23</td>\n",
              "    </tr>\n",
              "    <tr>\n",
              "      <th>2</th>\n",
              "      <td>World</td>\n",
              "      <td>OWID_WRL</td>\n",
              "      <td>802573 BCE</td>\n",
              "      <td>204.86</td>\n",
              "    </tr>\n",
              "    <tr>\n",
              "      <th>3</th>\n",
              "      <td>World</td>\n",
              "      <td>OWID_WRL</td>\n",
              "      <td>802060 BCE</td>\n",
              "      <td>207.50</td>\n",
              "    </tr>\n",
              "    <tr>\n",
              "      <th>4</th>\n",
              "      <td>World</td>\n",
              "      <td>OWID_WRL</td>\n",
              "      <td>801975 BCE</td>\n",
              "      <td>202.92</td>\n",
              "    </tr>\n",
              "    <tr>\n",
              "      <th>...</th>\n",
              "      <td>...</td>\n",
              "      <td>...</td>\n",
              "      <td>...</td>\n",
              "      <td>...</td>\n",
              "    </tr>\n",
              "    <tr>\n",
              "      <th>1866</th>\n",
              "      <td>World</td>\n",
              "      <td>OWID_WRL</td>\n",
              "      <td>2014</td>\n",
              "      <td>398.65</td>\n",
              "    </tr>\n",
              "    <tr>\n",
              "      <th>1867</th>\n",
              "      <td>World</td>\n",
              "      <td>OWID_WRL</td>\n",
              "      <td>2015</td>\n",
              "      <td>400.83</td>\n",
              "    </tr>\n",
              "    <tr>\n",
              "      <th>1868</th>\n",
              "      <td>World</td>\n",
              "      <td>OWID_WRL</td>\n",
              "      <td>2016</td>\n",
              "      <td>404.24</td>\n",
              "    </tr>\n",
              "    <tr>\n",
              "      <th>1869</th>\n",
              "      <td>World</td>\n",
              "      <td>OWID_WRL</td>\n",
              "      <td>2017</td>\n",
              "      <td>406.55</td>\n",
              "    </tr>\n",
              "    <tr>\n",
              "      <th>1870</th>\n",
              "      <td>World</td>\n",
              "      <td>OWID_WRL</td>\n",
              "      <td>2018</td>\n",
              "      <td>408.52</td>\n",
              "    </tr>\n",
              "  </tbody>\n",
              "</table>\n",
              "<p>1871 rows × 4 columns</p>\n",
              "</div>"
            ],
            "text/plain": [
              "     Entity      Code        Year  CO₂ concentration (parts per million)\n",
              "0     World  OWID_WRL  803719 BCE                                 207.29\n",
              "1     World  OWID_WRL  803182 BCE                                 202.23\n",
              "2     World  OWID_WRL  802573 BCE                                 204.86\n",
              "3     World  OWID_WRL  802060 BCE                                 207.50\n",
              "4     World  OWID_WRL  801975 BCE                                 202.92\n",
              "...     ...       ...         ...                                    ...\n",
              "1866  World  OWID_WRL        2014                                 398.65\n",
              "1867  World  OWID_WRL        2015                                 400.83\n",
              "1868  World  OWID_WRL        2016                                 404.24\n",
              "1869  World  OWID_WRL        2017                                 406.55\n",
              "1870  World  OWID_WRL        2018                                 408.52\n",
              "\n",
              "[1871 rows x 4 columns]"
            ]
          },
          "metadata": {
            "tags": []
          },
          "execution_count": 236
        }
      ]
    },
    {
      "cell_type": "code",
      "metadata": {
        "id": "snMjcUyKNKmD",
        "colab_type": "code",
        "colab": {}
      },
      "source": [
        "data1 = data1.drop(\"Code\",axis=1)"
      ],
      "execution_count": 0,
      "outputs": []
    },
    {
      "cell_type": "code",
      "metadata": {
        "id": "AJiCNGvcLgzl",
        "colab_type": "code",
        "outputId": "29160c10-11c4-4716-d754-912798e1dbdb",
        "colab": {
          "base_uri": "https://localhost:8080/",
          "height": 282
        }
      },
      "source": [
        "plt.plot(data1[\"Year\"],data1[\"CO₂ concentration (parts per million)\"])\n",
        "#eksenlere isim verilecek (y - serbest atmosferik CO2 - ppm)\n",
        "#x eksenindeki aralık düzeltilecek BCE 803719\n",
        "#ölçeklendirme yapılacak"
      ],
      "execution_count": 0,
      "outputs": [
        {
          "output_type": "execute_result",
          "data": {
            "text/plain": [
              "[<matplotlib.lines.Line2D at 0x7f6b3a7d7be0>]"
            ]
          },
          "metadata": {
            "tags": []
          },
          "execution_count": 238
        },
        {
          "output_type": "display_data",
          "data": {
            "image/png": "[encoded data removed]",
            "text/plain": [
              "<Figure size 432x288 with 1 Axes>"
            ]
          },
          "metadata": {
            "tags": [],
            "needs_background": "light"
          }
        }
      ]
    },
    {
      "cell_type": "code",
      "metadata": {
        "id": "BD_45DyifEW2",
        "colab_type": "code",
        "outputId": "517cc8e0-3df9-49ce-90c2-8a32bc69a291",
        "colab": {
          "base_uri": "https://localhost:8080/",
          "height": 282
        }
      },
      "source": [
        "after1850 = data1[1750::]\n",
        "plt.plot(after1850[\"Year\"],after1850[\"CO₂ concentration (parts per million)\"])"
      ],
      "execution_count": 0,
      "outputs": [
        {
          "output_type": "execute_result",
          "data": {
            "text/plain": [
              "[<matplotlib.lines.Line2D at 0x7f6b37fd0b38>]"
            ]
          },
          "metadata": {
            "tags": []
          },
          "execution_count": 259
        },
        {
          "output_type": "display_data",
          "data": {
            "image/png": "[encoded data removed]",
            "text/plain": [
              "<Figure size 432x288 with 1 Axes>"
            ]
          },
          "metadata": {
            "tags": [],
            "needs_background": "light"
          }
        }
      ]
    },
    {
      "cell_type": "code",
      "metadata": {
        "id": "4RlHsC-gcEgb",
        "colab_type": "code",
        "outputId": "27c3f29e-be83-4484-b735-2907519d1dc2",
        "colab": {
          "base_uri": "https://localhost:8080/",
          "height": 419
        }
      },
      "source": [
        "data2 = pd.read_csv(\"https://raw.githubusercontent.com/trkkvsn06/global-warming/master/co2-fossil-global.csv\")\n",
        "data2"
      ],
      "execution_count": 0,
      "outputs": [
        {
          "output_type": "execute_result",
          "data": {
            "text/html": [
              "<div>\n",
              "<style scoped>\n",
              "    .dataframe tbody tr th:only-of-type {\n",
              "        vertical-align: middle;\n",
              "    }\n",
              "\n",
              "    .dataframe tbody tr th {\n",
              "        vertical-align: top;\n",
              "    }\n",
              "\n",
              "    .dataframe thead th {\n",
              "        text-align: right;\n",
              "    }\n",
              "</style>\n",
              "<table border=\"1\" class=\"dataframe\">\n",
              "  <thead>\n",
              "    <tr style=\"text-align: right;\">\n",
              "      <th></th>\n",
              "      <th>Year</th>\n",
              "      <th>Total</th>\n",
              "      <th>Gas Fuel</th>\n",
              "      <th>Liquid Fuel</th>\n",
              "      <th>Solid Fuel</th>\n",
              "      <th>Cement</th>\n",
              "      <th>Gas Flaring</th>\n",
              "      <th>Per Capita</th>\n",
              "    </tr>\n",
              "  </thead>\n",
              "  <tbody>\n",
              "    <tr>\n",
              "      <th>0</th>\n",
              "      <td>1751</td>\n",
              "      <td>3</td>\n",
              "      <td>0</td>\n",
              "      <td>0</td>\n",
              "      <td>3</td>\n",
              "      <td>0</td>\n",
              "      <td>0</td>\n",
              "      <td>NaN</td>\n",
              "    </tr>\n",
              "    <tr>\n",
              "      <th>1</th>\n",
              "      <td>1752</td>\n",
              "      <td>3</td>\n",
              "      <td>0</td>\n",
              "      <td>0</td>\n",
              "      <td>3</td>\n",
              "      <td>0</td>\n",
              "      <td>0</td>\n",
              "      <td>NaN</td>\n",
              "    </tr>\n",
              "    <tr>\n",
              "      <th>2</th>\n",
              "      <td>1753</td>\n",
              "      <td>3</td>\n",
              "      <td>0</td>\n",
              "      <td>0</td>\n",
              "      <td>3</td>\n",
              "      <td>0</td>\n",
              "      <td>0</td>\n",
              "      <td>NaN</td>\n",
              "    </tr>\n",
              "    <tr>\n",
              "      <th>3</th>\n",
              "      <td>1754</td>\n",
              "      <td>3</td>\n",
              "      <td>0</td>\n",
              "      <td>0</td>\n",
              "      <td>3</td>\n",
              "      <td>0</td>\n",
              "      <td>0</td>\n",
              "      <td>NaN</td>\n",
              "    </tr>\n",
              "    <tr>\n",
              "      <th>4</th>\n",
              "      <td>1755</td>\n",
              "      <td>3</td>\n",
              "      <td>0</td>\n",
              "      <td>0</td>\n",
              "      <td>3</td>\n",
              "      <td>0</td>\n",
              "      <td>0</td>\n",
              "      <td>NaN</td>\n",
              "    </tr>\n",
              "    <tr>\n",
              "      <th>...</th>\n",
              "      <td>...</td>\n",
              "      <td>...</td>\n",
              "      <td>...</td>\n",
              "      <td>...</td>\n",
              "      <td>...</td>\n",
              "      <td>...</td>\n",
              "      <td>...</td>\n",
              "      <td>...</td>\n",
              "    </tr>\n",
              "    <tr>\n",
              "      <th>255</th>\n",
              "      <td>2006</td>\n",
              "      <td>8370</td>\n",
              "      <td>1525</td>\n",
              "      <td>3089</td>\n",
              "      <td>3339</td>\n",
              "      <td>356</td>\n",
              "      <td>61</td>\n",
              "      <td>1.27</td>\n",
              "    </tr>\n",
              "    <tr>\n",
              "      <th>256</th>\n",
              "      <td>2007</td>\n",
              "      <td>8566</td>\n",
              "      <td>1572</td>\n",
              "      <td>3081</td>\n",
              "      <td>3464</td>\n",
              "      <td>382</td>\n",
              "      <td>68</td>\n",
              "      <td>1.28</td>\n",
              "    </tr>\n",
              "    <tr>\n",
              "      <th>257</th>\n",
              "      <td>2008</td>\n",
              "      <td>8783</td>\n",
              "      <td>1631</td>\n",
              "      <td>3122</td>\n",
              "      <td>3571</td>\n",
              "      <td>388</td>\n",
              "      <td>71</td>\n",
              "      <td>1.30</td>\n",
              "    </tr>\n",
              "    <tr>\n",
              "      <th>258</th>\n",
              "      <td>2009</td>\n",
              "      <td>8740</td>\n",
              "      <td>1585</td>\n",
              "      <td>3056</td>\n",
              "      <td>3620</td>\n",
              "      <td>413</td>\n",
              "      <td>66</td>\n",
              "      <td>1.28</td>\n",
              "    </tr>\n",
              "    <tr>\n",
              "      <th>259</th>\n",
              "      <td>2010</td>\n",
              "      <td>9167</td>\n",
              "      <td>1702</td>\n",
              "      <td>3114</td>\n",
              "      <td>3842</td>\n",
              "      <td>450</td>\n",
              "      <td>59</td>\n",
              "      <td>1.33</td>\n",
              "    </tr>\n",
              "  </tbody>\n",
              "</table>\n",
              "<p>260 rows × 8 columns</p>\n",
              "</div>"
            ],
            "text/plain": [
              "     Year  Total  Gas Fuel  ...  Cement  Gas Flaring  Per Capita\n",
              "0    1751      3         0  ...       0            0         NaN\n",
              "1    1752      3         0  ...       0            0         NaN\n",
              "2    1753      3         0  ...       0            0         NaN\n",
              "3    1754      3         0  ...       0            0         NaN\n",
              "4    1755      3         0  ...       0            0         NaN\n",
              "..    ...    ...       ...  ...     ...          ...         ...\n",
              "255  2006   8370      1525  ...     356           61        1.27\n",
              "256  2007   8566      1572  ...     382           68        1.28\n",
              "257  2008   8783      1631  ...     388           71        1.30\n",
              "258  2009   8740      1585  ...     413           66        1.28\n",
              "259  2010   9167      1702  ...     450           59        1.33\n",
              "\n",
              "[260 rows x 8 columns]"
            ]
          },
          "metadata": {
            "tags": []
          },
          "execution_count": 50
        }
      ]
    },
    {
      "cell_type": "code",
      "metadata": {
        "id": "IEV20KBadHPX",
        "colab_type": "code",
        "colab": {}
      },
      "source": [
        "data2 = data2.drop(\"Gas Flaring\" and \"Cement\",axis=1)"
      ],
      "execution_count": 0,
      "outputs": []
    },
    {
      "cell_type": "code",
      "metadata": {
        "id": "x5HL2qtd3UkN",
        "colab_type": "code",
        "outputId": "afb3dc24-9c59-490d-8be5-f654859df741",
        "colab": {
          "base_uri": "https://localhost:8080/",
          "height": 419
        }
      },
      "source": [
        "after1850 = data2[data2[\"Year\"] >= 1850]\n",
        "after1850"
      ],
      "execution_count": 0,
      "outputs": [
        {
          "output_type": "execute_result",
          "data": {
            "text/html": [
              "<div>\n",
              "<style scoped>\n",
              "    .dataframe tbody tr th:only-of-type {\n",
              "        vertical-align: middle;\n",
              "    }\n",
              "\n",
              "    .dataframe tbody tr th {\n",
              "        vertical-align: top;\n",
              "    }\n",
              "\n",
              "    .dataframe thead th {\n",
              "        text-align: right;\n",
              "    }\n",
              "</style>\n",
              "<table border=\"1\" class=\"dataframe\">\n",
              "  <thead>\n",
              "    <tr style=\"text-align: right;\">\n",
              "      <th></th>\n",
              "      <th>Year</th>\n",
              "      <th>Total</th>\n",
              "      <th>Gas Fuel</th>\n",
              "      <th>Liquid Fuel</th>\n",
              "      <th>Solid Fuel</th>\n",
              "      <th>Gas Flaring</th>\n",
              "      <th>Per Capita</th>\n",
              "    </tr>\n",
              "  </thead>\n",
              "  <tbody>\n",
              "    <tr>\n",
              "      <th>99</th>\n",
              "      <td>1850</td>\n",
              "      <td>54</td>\n",
              "      <td>0</td>\n",
              "      <td>0</td>\n",
              "      <td>54</td>\n",
              "      <td>0</td>\n",
              "      <td>NaN</td>\n",
              "    </tr>\n",
              "    <tr>\n",
              "      <th>100</th>\n",
              "      <td>1851</td>\n",
              "      <td>54</td>\n",
              "      <td>0</td>\n",
              "      <td>0</td>\n",
              "      <td>54</td>\n",
              "      <td>0</td>\n",
              "      <td>NaN</td>\n",
              "    </tr>\n",
              "    <tr>\n",
              "      <th>101</th>\n",
              "      <td>1852</td>\n",
              "      <td>57</td>\n",
              "      <td>0</td>\n",
              "      <td>0</td>\n",
              "      <td>57</td>\n",
              "      <td>0</td>\n",
              "      <td>NaN</td>\n",
              "    </tr>\n",
              "    <tr>\n",
              "      <th>102</th>\n",
              "      <td>1853</td>\n",
              "      <td>59</td>\n",
              "      <td>0</td>\n",
              "      <td>0</td>\n",
              "      <td>59</td>\n",
              "      <td>0</td>\n",
              "      <td>NaN</td>\n",
              "    </tr>\n",
              "    <tr>\n",
              "      <th>103</th>\n",
              "      <td>1854</td>\n",
              "      <td>69</td>\n",
              "      <td>0</td>\n",
              "      <td>0</td>\n",
              "      <td>69</td>\n",
              "      <td>0</td>\n",
              "      <td>NaN</td>\n",
              "    </tr>\n",
              "    <tr>\n",
              "      <th>...</th>\n",
              "      <td>...</td>\n",
              "      <td>...</td>\n",
              "      <td>...</td>\n",
              "      <td>...</td>\n",
              "      <td>...</td>\n",
              "      <td>...</td>\n",
              "      <td>...</td>\n",
              "    </tr>\n",
              "    <tr>\n",
              "      <th>255</th>\n",
              "      <td>2006</td>\n",
              "      <td>8370</td>\n",
              "      <td>1525</td>\n",
              "      <td>3089</td>\n",
              "      <td>3339</td>\n",
              "      <td>61</td>\n",
              "      <td>1.27</td>\n",
              "    </tr>\n",
              "    <tr>\n",
              "      <th>256</th>\n",
              "      <td>2007</td>\n",
              "      <td>8566</td>\n",
              "      <td>1572</td>\n",
              "      <td>3081</td>\n",
              "      <td>3464</td>\n",
              "      <td>68</td>\n",
              "      <td>1.28</td>\n",
              "    </tr>\n",
              "    <tr>\n",
              "      <th>257</th>\n",
              "      <td>2008</td>\n",
              "      <td>8783</td>\n",
              "      <td>1631</td>\n",
              "      <td>3122</td>\n",
              "      <td>3571</td>\n",
              "      <td>71</td>\n",
              "      <td>1.30</td>\n",
              "    </tr>\n",
              "    <tr>\n",
              "      <th>258</th>\n",
              "      <td>2009</td>\n",
              "      <td>8740</td>\n",
              "      <td>1585</td>\n",
              "      <td>3056</td>\n",
              "      <td>3620</td>\n",
              "      <td>66</td>\n",
              "      <td>1.28</td>\n",
              "    </tr>\n",
              "    <tr>\n",
              "      <th>259</th>\n",
              "      <td>2010</td>\n",
              "      <td>9167</td>\n",
              "      <td>1702</td>\n",
              "      <td>3114</td>\n",
              "      <td>3842</td>\n",
              "      <td>59</td>\n",
              "      <td>1.33</td>\n",
              "    </tr>\n",
              "  </tbody>\n",
              "</table>\n",
              "<p>161 rows × 7 columns</p>\n",
              "</div>"
            ],
            "text/plain": [
              "     Year  Total  Gas Fuel  Liquid Fuel  Solid Fuel  Gas Flaring  Per Capita\n",
              "99   1850     54         0            0          54            0         NaN\n",
              "100  1851     54         0            0          54            0         NaN\n",
              "101  1852     57         0            0          57            0         NaN\n",
              "102  1853     59         0            0          59            0         NaN\n",
              "103  1854     69         0            0          69            0         NaN\n",
              "..    ...    ...       ...          ...         ...          ...         ...\n",
              "255  2006   8370      1525         3089        3339           61        1.27\n",
              "256  2007   8566      1572         3081        3464           68        1.28\n",
              "257  2008   8783      1631         3122        3571           71        1.30\n",
              "258  2009   8740      1585         3056        3620           66        1.28\n",
              "259  2010   9167      1702         3114        3842           59        1.33\n",
              "\n",
              "[161 rows x 7 columns]"
            ]
          },
          "metadata": {
            "tags": []
          },
          "execution_count": 59
        }
      ]
    },
    {
      "cell_type": "code",
      "metadata": {
        "id": "eysK4C_gcPaF",
        "colab_type": "code",
        "outputId": "08c3447a-9063-4aab-c76f-c557fec56dae",
        "colab": {
          "base_uri": "https://localhost:8080/",
          "height": 333
        }
      },
      "source": [
        "plt.plot(after1850[\"Year\"],after1850[\"Total\"],after1850[\"Year\"],after1850[\"Solid Fuel\"],\n",
        "         after1850[\"Year\"],after1850[\"Liquid Fuel\"],after1850[\"Year\"],after1850[\"Gas Fuel\"])\n",
        "#sarı-katı,yeşil-sıvı,kırmızı-gaz\n",
        "#y ekseni milyon metrik ton karbon\n",
        "#bunları bar grafiği ile yap"
      ],
      "execution_count": 0,
      "outputs": [
        {
          "output_type": "execute_result",
          "data": {
            "text/plain": [
              "[<matplotlib.lines.Line2D at 0x7f2364fdbd30>,\n",
              " <matplotlib.lines.Line2D at 0x7f2364fdbe48>,\n",
              " <matplotlib.lines.Line2D at 0x7f2364fdbf98>,\n",
              " <matplotlib.lines.Line2D at 0x7f2364fe6128>]"
            ]
          },
          "metadata": {
            "tags": []
          },
          "execution_count": 60
        },
        {
          "output_type": "display_data",
          "data": {
            "image/png": "[encoded data removed]",
            "text/plain": [
              "<Figure size 432x288 with 1 Axes>"
            ]
          },
          "metadata": {
            "tags": [],
            "needs_background": "light"
          }
        }
      ]
    },
    {
      "cell_type": "code",
      "metadata": {
        "id": "JZzuH3Kt113S",
        "colab_type": "code",
        "outputId": "93a0579c-d1b5-4df9-8868-86a8217fcfc8",
        "colab": {
          "base_uri": "https://localhost:8080/",
          "height": 419
        }
      },
      "source": [
        "data3 = pd.read_csv(\"https://raw.githubusercontent.com/trkkvsn06/global-warming/master/%C3%BClkelere%20g%C3%B6re%20yak%C4%B1n%20zaman.csv\")\n",
        "data3"
      ],
      "execution_count": 0,
      "outputs": [
        {
          "output_type": "execute_result",
          "data": {
            "text/html": [
              "<div>\n",
              "<style scoped>\n",
              "    .dataframe tbody tr th:only-of-type {\n",
              "        vertical-align: middle;\n",
              "    }\n",
              "\n",
              "    .dataframe tbody tr th {\n",
              "        vertical-align: top;\n",
              "    }\n",
              "\n",
              "    .dataframe thead th {\n",
              "        text-align: right;\n",
              "    }\n",
              "</style>\n",
              "<table border=\"1\" class=\"dataframe\">\n",
              "  <thead>\n",
              "    <tr style=\"text-align: right;\">\n",
              "      <th></th>\n",
              "      <th>Entity</th>\n",
              "      <th>Code</th>\n",
              "      <th>Year</th>\n",
              "      <th>Annual CO₂ emissions (tonnes)</th>\n",
              "    </tr>\n",
              "  </thead>\n",
              "  <tbody>\n",
              "    <tr>\n",
              "      <th>0</th>\n",
              "      <td>Afghanistan</td>\n",
              "      <td>AFG</td>\n",
              "      <td>1949</td>\n",
              "      <td>14656.00</td>\n",
              "    </tr>\n",
              "    <tr>\n",
              "      <th>1</th>\n",
              "      <td>Afghanistan</td>\n",
              "      <td>AFG</td>\n",
              "      <td>1950</td>\n",
              "      <td>84272.00</td>\n",
              "    </tr>\n",
              "    <tr>\n",
              "      <th>2</th>\n",
              "      <td>Afghanistan</td>\n",
              "      <td>AFG</td>\n",
              "      <td>1951</td>\n",
              "      <td>91600.00</td>\n",
              "    </tr>\n",
              "    <tr>\n",
              "      <th>3</th>\n",
              "      <td>Afghanistan</td>\n",
              "      <td>AFG</td>\n",
              "      <td>1952</td>\n",
              "      <td>91600.00</td>\n",
              "    </tr>\n",
              "    <tr>\n",
              "      <th>4</th>\n",
              "      <td>Afghanistan</td>\n",
              "      <td>AFG</td>\n",
              "      <td>1953</td>\n",
              "      <td>106256.00</td>\n",
              "    </tr>\n",
              "    <tr>\n",
              "      <th>...</th>\n",
              "      <td>...</td>\n",
              "      <td>...</td>\n",
              "      <td>...</td>\n",
              "      <td>...</td>\n",
              "    </tr>\n",
              "    <tr>\n",
              "      <th>20848</th>\n",
              "      <td>Zimbabwe</td>\n",
              "      <td>ZWE</td>\n",
              "      <td>2013</td>\n",
              "      <td>11536239.29</td>\n",
              "    </tr>\n",
              "    <tr>\n",
              "      <th>20849</th>\n",
              "      <td>Zimbabwe</td>\n",
              "      <td>ZWE</td>\n",
              "      <td>2014</td>\n",
              "      <td>11866348.41</td>\n",
              "    </tr>\n",
              "    <tr>\n",
              "      <th>20850</th>\n",
              "      <td>Zimbabwe</td>\n",
              "      <td>ZWE</td>\n",
              "      <td>2015</td>\n",
              "      <td>10907603.94</td>\n",
              "    </tr>\n",
              "    <tr>\n",
              "      <th>20851</th>\n",
              "      <td>Zimbabwe</td>\n",
              "      <td>ZWE</td>\n",
              "      <td>2016</td>\n",
              "      <td>9932649.88</td>\n",
              "    </tr>\n",
              "    <tr>\n",
              "      <th>20852</th>\n",
              "      <td>Zimbabwe</td>\n",
              "      <td>ZWE</td>\n",
              "      <td>2017</td>\n",
              "      <td>10397718.47</td>\n",
              "    </tr>\n",
              "  </tbody>\n",
              "</table>\n",
              "<p>20853 rows × 4 columns</p>\n",
              "</div>"
            ],
            "text/plain": [
              "            Entity Code  Year  Annual CO₂ emissions (tonnes)\n",
              "0      Afghanistan  AFG  1949                       14656.00\n",
              "1      Afghanistan  AFG  1950                       84272.00\n",
              "2      Afghanistan  AFG  1951                       91600.00\n",
              "3      Afghanistan  AFG  1952                       91600.00\n",
              "4      Afghanistan  AFG  1953                      106256.00\n",
              "...            ...  ...   ...                            ...\n",
              "20848     Zimbabwe  ZWE  2013                    11536239.29\n",
              "20849     Zimbabwe  ZWE  2014                    11866348.41\n",
              "20850     Zimbabwe  ZWE  2015                    10907603.94\n",
              "20851     Zimbabwe  ZWE  2016                     9932649.88\n",
              "20852     Zimbabwe  ZWE  2017                    10397718.47\n",
              "\n",
              "[20853 rows x 4 columns]"
            ]
          },
          "metadata": {
            "tags": []
          },
          "execution_count": 10
        }
      ]
    },
    {
      "cell_type": "code",
      "metadata": {
        "id": "JQOurXZS2kKJ",
        "colab_type": "code",
        "outputId": "6015f8c3-2db1-494c-e609-fe20a47ae8d5",
        "colab": {
          "base_uri": "https://localhost:8080/",
          "height": 51
        }
      },
      "source": [
        "abd_2017 = data3[(data3[\"Code\"] == \"USA\") & (data3[\"Year\"] == 2017)][\"Annual CO₂ emissions (tonnes)\"]\n",
        "china_2017 = data3[(data3[\"Entity\"] == \"China\") & (data3[\"Year\"] == 2017) ][\"Annual CO₂ emissions (tonnes)\"]\n",
        "russia_2017 = data3[(data3[\"Entity\"] == \"Russia\") & (data3[\"Year\"] == 2017) ][\"Annual CO₂ emissions (tonnes)\"]\n",
        "japan_2017 = data3[(data3[\"Entity\"] == \"Japan\") & (data3[\"Year\"] == 2017) ][\"Annual CO₂ emissions (tonnes)\"]\n",
        "Turkey_2017 = data3[(data3[\"Entity\"] == \"Turkey\") & (data3[\"Year\"] == 2017) ][\"Annual CO₂ emissions (tonnes)\"]\n",
        "India_2017 = data3[(data3[\"Entity\"] == \"India\") & (data3[\"Year\"] == 2017) ][\"Annual CO₂ emissions (tonnes)\"]\n",
        "EU_2017 = data3[(data3[\"Entity\"] == \"EU-28\") & (data3[\"Year\"] == 2017)][\"Annual CO₂ emissions (tonnes)\"]\n",
        "yil = data3[(data3[\"Year\"] == 2017)]\n",
        "yil[\"Annual CO₂ emissions (tonnes)\"]\n",
        "Digerleri = abd_2017*(39.63/13.7)\n",
        "print(Digerleri)\n"
      ],
      "execution_count": 0,
      "outputs": [
        {
          "output_type": "stream",
          "text": [
            "19927    1.524317e+10\n",
            "Name: Annual CO₂ emissions (tonnes), dtype: float64\n"
          ],
          "name": "stdout"
        }
      ]
    },
    {
      "cell_type": "code",
      "metadata": {
        "id": "4_B6sAhZ1z3n",
        "colab_type": "code",
        "outputId": "0d7cdcb4-b581-4fc8-8f11-2d96e746ffa9",
        "colab": {
          "base_uri": "https://localhost:8080/",
          "height": 605
        }
      },
      "source": [
        "plt.figure(figsize=(10,10))\n",
        "plt.pie([abd_2017,china_2017,russia_2017,japan_2017,Turkey_2017,India_2017,11000000000,EU_2017],\n",
        "        labels=[\"ABD\",\"Çin\",\"Rusya\",\n",
        "                \"Japonya\",\"Türkiye\",\"Hindistan\",\"Diğerleri\",\"AB\"],autopct='%1.1f%%')\n",
        "plt.rc(['xtick','ytick'], labelsize=10)\n",
        "plt.title(\"2017 yılında atmosfere salınan CO2 oranları\", fontsize=10)"
      ],
      "execution_count": 0,
      "outputs": [
        {
          "output_type": "execute_result",
          "data": {
            "text/plain": [
              "Text(0.5, 1.0, '2017 yılında atmosfere salınan CO2 oranları')"
            ]
          },
          "metadata": {
            "tags": []
          },
          "execution_count": 194
        },
        {
          "output_type": "display_data",
          "data": {
            "image/png": "[encoded data removed]",
            "text/plain": [
              "<Figure size 720x720 with 1 Axes>"
            ]
          },
          "metadata": {
            "tags": []
          }
        }
      ]
    },
    {
      "cell_type": "code",
      "metadata": {
        "id": "GWiarvFUP2_C",
        "colab_type": "code",
        "outputId": "a869e876-eef1-4f5a-cb08-c60dfd215730",
        "colab": {
          "base_uri": "https://localhost:8080/",
          "height": 34
        }
      },
      "source": [
        "abd = sum(data3[(data3[\"Code\"] == \"USA\")][\"Annual CO₂ emissions (tonnes)\"])\n",
        "cin = sum(data3[(data3[\"Entity\"] == \"China\")][\"Annual CO₂ emissions (tonnes)\"])\n",
        "rusya = sum(data3[(data3[\"Entity\"] == \"Russia\")][\"Annual CO₂ emissions (tonnes)\"])\n",
        "japonya = sum(data3[(data3[\"Entity\"] == \"Japan\")][\"Annual CO₂ emissions (tonnes)\"])\n",
        "AB = sum(data3[(data3[\"Entity\"] == \"EU-28\")][\"Annual CO₂ emissions (tonnes)\"])\n",
        "Hindistan = sum(data3[data3[\"Entity\"] == \"India\"][\"Annual CO₂ emissions (tonnes)\"])\n",
        "Turkiye = sum(data3[data3[\"Entity\"] == \"Turkey\"][\"Annual CO₂ emissions (tonnes)\"])\n",
        "Toplam = abd + cin + rusya + japonya + AB + Hindistan + Turkiye\n",
        "Diger = sum(data3[\"Annual CO₂ emissions (tonnes)\"]) - 3.08*Toplam\n",
        "Diger"
      ],
      "execution_count": 0,
      "outputs": [
        {
          "output_type": "execute_result",
          "data": {
            "text/plain": [
              "411552474056.6045"
            ]
          },
          "metadata": {
            "tags": []
          },
          "execution_count": 234
        }
      ]
    },
    {
      "cell_type": "code",
      "metadata": {
        "id": "kuRyIDN6D-Gb",
        "colab_type": "code",
        "outputId": "0bbb9265-a6a8-4152-8707-02073e616040",
        "colab": {
          "base_uri": "https://localhost:8080/",
          "height": 605
        }
      },
      "source": [
        "plt.figure(figsize=(10,10))\n",
        "plt.pie([abd,cin,rusya,japonya,Turkiye,Hindistan,Diger,AB],\n",
        "        labels=[\"ABD\",\"Çin\",\"Rusya\",\n",
        "                \"Japonya\",\"Türkiye\",\"Hindistan\",\"Diğerleri\",\"AB\"],autopct='%1.1f%%')\n",
        "plt.rc(['xtick','ytick'], labelsize=10)\n",
        "plt.title(\"Atmosferdeki serbest CO2 oranları\", fontsize=10)"
      ],
      "execution_count": 0,
      "outputs": [
        {
          "output_type": "execute_result",
          "data": {
            "text/plain": [
              "Text(0.5, 1.0, 'Atmosferdeki serbest CO2 oranları')"
            ]
          },
          "metadata": {
            "tags": []
          },
          "execution_count": 235
        },
        {
          "output_type": "display_data",
          "data": {
            "image/png": "[encoded data removed]",
            "text/plain": [
              "<Figure size 720x720 with 1 Axes>"
            ]
          },
          "metadata": {
            "tags": []
          }
        }
      ]
    },
    {
      "cell_type": "code",
      "metadata": {
        "id": "LLWQHjBNTJ9J",
        "colab_type": "code",
        "outputId": "c017fd3c-96bd-41c3-c708-21668a3efbba",
        "colab": {
          "base_uri": "https://localhost:8080/",
          "height": 293
        }
      },
      "source": [
        "cin = data3[(data3[\"Entity\"] == \"China\") & (data3[\"Year\"] >= 1950)]\n",
        "plt.plot(cin[\"Year\"],cin[\"Annual CO₂ emissions (tonnes)\"])"
      ],
      "execution_count": 0,
      "outputs": [
        {
          "output_type": "execute_result",
          "data": {
            "text/plain": [
              "[<matplotlib.lines.Line2D at 0x7f6b37897048>]"
            ]
          },
          "metadata": {
            "tags": []
          },
          "execution_count": 286
        },
        {
          "output_type": "display_data",
          "data": {
            "image/png": "[encoded data removed]",
            "text/plain": [
              "<Figure size 432x288 with 1 Axes>"
            ]
          },
          "metadata": {
            "tags": [],
            "needs_background": "light"
          }
        }
      ]
    },
    {
      "cell_type": "code",
      "metadata": {
        "id": "m4okG8OOkouQ",
        "colab_type": "code",
        "outputId": "2cc7836b-9a78-42a5-aed5-23261b4f6374",
        "colab": {
          "base_uri": "https://localhost:8080/",
          "height": 293
        }
      },
      "source": [
        "ABD = data3[(data3[\"Code\"] == \"USA\") & (data3[\"Year\"] >= 1950)]\n",
        "plt.plot(ABD[\"Year\"],ABD[\"Annual CO₂ emissions (tonnes)\"])"
      ],
      "execution_count": 0,
      "outputs": [
        {
          "output_type": "execute_result",
          "data": {
            "text/plain": [
              "[<matplotlib.lines.Line2D at 0x7f6b37d06780>]"
            ]
          },
          "metadata": {
            "tags": []
          },
          "execution_count": 272
        },
        {
          "output_type": "display_data",
          "data": {
            "image/png": "[encoded data removed]",
            "text/plain": [
              "<Figure size 432x288 with 1 Axes>"
            ]
          },
          "metadata": {
            "tags": [],
            "needs_background": "light"
          }
        }
      ]
    },
    {
      "cell_type": "code",
      "metadata": {
        "id": "NtIacrnrnQKM",
        "colab_type": "code",
        "outputId": "3f3d8be7-ebe0-4a30-b0cb-fbac0df55b38",
        "colab": {
          "base_uri": "https://localhost:8080/",
          "height": 419
        }
      },
      "source": [
        "data_glaicer = pd.read_csv(\"https://raw.githubusercontent.com/trkkvsn06/global-warming/master/kutup%20alan%C4%B1.csv\")\n",
        "data_glaicer"
      ],
      "execution_count": 0,
      "outputs": [
        {
          "output_type": "execute_result",
          "data": {
            "text/html": [
              "<div>\n",
              "<style scoped>\n",
              "    .dataframe tbody tr th:only-of-type {\n",
              "        vertical-align: middle;\n",
              "    }\n",
              "\n",
              "    .dataframe tbody tr th {\n",
              "        vertical-align: top;\n",
              "    }\n",
              "\n",
              "    .dataframe thead th {\n",
              "        text-align: right;\n",
              "    }\n",
              "</style>\n",
              "<table border=\"1\" class=\"dataframe\">\n",
              "  <thead>\n",
              "    <tr style=\"text-align: right;\">\n",
              "      <th></th>\n",
              "      <th>Year</th>\n",
              "      <th>Mean cumulative mass balance</th>\n",
              "      <th>Number of observations</th>\n",
              "    </tr>\n",
              "  </thead>\n",
              "  <tbody>\n",
              "    <tr>\n",
              "      <th>0</th>\n",
              "      <td>1945</td>\n",
              "      <td>0.000</td>\n",
              "      <td>NaN</td>\n",
              "    </tr>\n",
              "    <tr>\n",
              "      <th>1</th>\n",
              "      <td>1946</td>\n",
              "      <td>-1.130</td>\n",
              "      <td>1.0</td>\n",
              "    </tr>\n",
              "    <tr>\n",
              "      <th>2</th>\n",
              "      <td>1947</td>\n",
              "      <td>-3.190</td>\n",
              "      <td>1.0</td>\n",
              "    </tr>\n",
              "    <tr>\n",
              "      <th>3</th>\n",
              "      <td>1948</td>\n",
              "      <td>-3.190</td>\n",
              "      <td>1.0</td>\n",
              "    </tr>\n",
              "    <tr>\n",
              "      <th>4</th>\n",
              "      <td>1949</td>\n",
              "      <td>-3.820</td>\n",
              "      <td>3.0</td>\n",
              "    </tr>\n",
              "    <tr>\n",
              "      <th>...</th>\n",
              "      <td>...</td>\n",
              "      <td>...</td>\n",
              "      <td>...</td>\n",
              "    </tr>\n",
              "    <tr>\n",
              "      <th>65</th>\n",
              "      <td>2010</td>\n",
              "      <td>-25.158</td>\n",
              "      <td>37.0</td>\n",
              "    </tr>\n",
              "    <tr>\n",
              "      <th>66</th>\n",
              "      <td>2011</td>\n",
              "      <td>-26.294</td>\n",
              "      <td>37.0</td>\n",
              "    </tr>\n",
              "    <tr>\n",
              "      <th>67</th>\n",
              "      <td>2012</td>\n",
              "      <td>-26.930</td>\n",
              "      <td>36.0</td>\n",
              "    </tr>\n",
              "    <tr>\n",
              "      <th>68</th>\n",
              "      <td>2013</td>\n",
              "      <td>-27.817</td>\n",
              "      <td>31.0</td>\n",
              "    </tr>\n",
              "    <tr>\n",
              "      <th>69</th>\n",
              "      <td>2014</td>\n",
              "      <td>-28.652</td>\n",
              "      <td>24.0</td>\n",
              "    </tr>\n",
              "  </tbody>\n",
              "</table>\n",
              "<p>70 rows × 3 columns</p>\n",
              "</div>"
            ],
            "text/plain": [
              "    Year  Mean cumulative mass balance  Number of observations\n",
              "0   1945                         0.000                     NaN\n",
              "1   1946                        -1.130                     1.0\n",
              "2   1947                        -3.190                     1.0\n",
              "3   1948                        -3.190                     1.0\n",
              "4   1949                        -3.820                     3.0\n",
              "..   ...                           ...                     ...\n",
              "65  2010                       -25.158                    37.0\n",
              "66  2011                       -26.294                    37.0\n",
              "67  2012                       -26.930                    36.0\n",
              "68  2013                       -27.817                    31.0\n",
              "69  2014                       -28.652                    24.0\n",
              "\n",
              "[70 rows x 3 columns]"
            ]
          },
          "metadata": {
            "tags": []
          },
          "execution_count": 274
        }
      ]
    },
    {
      "cell_type": "code",
      "metadata": {
        "id": "sRZl9ZSCnmUD",
        "colab_type": "code",
        "outputId": "7f31d12a-b750-4a10-9d41-51ed6157122f",
        "colab": {
          "base_uri": "https://localhost:8080/",
          "height": 282
        }
      },
      "source": [
        "plt.plot(data_glaicer[\"Year\"],data_glaicer[\"Mean cumulative mass balance\"])"
      ],
      "execution_count": 0,
      "outputs": [
        {
          "output_type": "execute_result",
          "data": {
            "text/plain": [
              "[<matplotlib.lines.Line2D at 0x7f6b37c0da20>]"
            ]
          },
          "metadata": {
            "tags": []
          },
          "execution_count": 276
        },
        {
          "output_type": "display_data",
          "data": {
            "image/png": "[encoded data removed]",
            "text/plain": [
              "<Figure size 432x288 with 1 Axes>"
            ]
          },
          "metadata": {
            "tags": [],
            "needs_background": "light"
          }
        }
      ]
    },
    {
      "cell_type": "code",
      "metadata": {
        "id": "_xI-Erf6oHgl",
        "colab_type": "code",
        "outputId": "93bfefb9-4a3d-4836-94eb-7ea2bb7faebd",
        "colab": {
          "base_uri": "https://localhost:8080/",
          "height": 419
        }
      },
      "source": [
        "data_sealevel = pd.read_csv(\"https://raw.githubusercontent.com/trkkvsn06/global-warming/master/deniz%20seviyesi.csv\")\n",
        "data_sealevel"
      ],
      "execution_count": 0,
      "outputs": [
        {
          "output_type": "execute_result",
          "data": {
            "text/html": [
              "<div>\n",
              "<style scoped>\n",
              "    .dataframe tbody tr th:only-of-type {\n",
              "        vertical-align: middle;\n",
              "    }\n",
              "\n",
              "    .dataframe tbody tr th {\n",
              "        vertical-align: top;\n",
              "    }\n",
              "\n",
              "    .dataframe thead th {\n",
              "        text-align: right;\n",
              "    }\n",
              "</style>\n",
              "<table border=\"1\" class=\"dataframe\">\n",
              "  <thead>\n",
              "    <tr style=\"text-align: right;\">\n",
              "      <th></th>\n",
              "      <th>Time</th>\n",
              "      <th>GMSL</th>\n",
              "    </tr>\n",
              "  </thead>\n",
              "  <tbody>\n",
              "    <tr>\n",
              "      <th>0</th>\n",
              "      <td>1993-01-15</td>\n",
              "      <td>-1.6</td>\n",
              "    </tr>\n",
              "    <tr>\n",
              "      <th>1</th>\n",
              "      <td>1993-02-15</td>\n",
              "      <td>-3.4</td>\n",
              "    </tr>\n",
              "    <tr>\n",
              "      <th>2</th>\n",
              "      <td>1993-03-15</td>\n",
              "      <td>5.5</td>\n",
              "    </tr>\n",
              "    <tr>\n",
              "      <th>3</th>\n",
              "      <td>1993-04-15</td>\n",
              "      <td>0.1</td>\n",
              "    </tr>\n",
              "    <tr>\n",
              "      <th>4</th>\n",
              "      <td>1993-05-15</td>\n",
              "      <td>5.3</td>\n",
              "    </tr>\n",
              "    <tr>\n",
              "      <th>...</th>\n",
              "      <td>...</td>\n",
              "      <td>...</td>\n",
              "    </tr>\n",
              "    <tr>\n",
              "      <th>261</th>\n",
              "      <td>2014-10-15</td>\n",
              "      <td>71.7</td>\n",
              "    </tr>\n",
              "    <tr>\n",
              "      <th>262</th>\n",
              "      <td>2014-11-15</td>\n",
              "      <td>69.0</td>\n",
              "    </tr>\n",
              "    <tr>\n",
              "      <th>263</th>\n",
              "      <td>2014-12-15</td>\n",
              "      <td>76.0</td>\n",
              "    </tr>\n",
              "    <tr>\n",
              "      <th>264</th>\n",
              "      <td>2015-01-15</td>\n",
              "      <td>74.5</td>\n",
              "    </tr>\n",
              "    <tr>\n",
              "      <th>265</th>\n",
              "      <td>2015-02-15</td>\n",
              "      <td>79.5</td>\n",
              "    </tr>\n",
              "  </tbody>\n",
              "</table>\n",
              "<p>266 rows × 2 columns</p>\n",
              "</div>"
            ],
            "text/plain": [
              "           Time  GMSL\n",
              "0    1993-01-15  -1.6\n",
              "1    1993-02-15  -3.4\n",
              "2    1993-03-15   5.5\n",
              "3    1993-04-15   0.1\n",
              "4    1993-05-15   5.3\n",
              "..          ...   ...\n",
              "261  2014-10-15  71.7\n",
              "262  2014-11-15  69.0\n",
              "263  2014-12-15  76.0\n",
              "264  2015-01-15  74.5\n",
              "265  2015-02-15  79.5\n",
              "\n",
              "[266 rows x 2 columns]"
            ]
          },
          "metadata": {
            "tags": []
          },
          "execution_count": 284
        }
      ]
    },
    {
      "cell_type": "code",
      "metadata": {
        "id": "QcfEMSvcqiNt",
        "colab_type": "code",
        "outputId": "a5781b85-a8d0-4f7a-f51e-32fc5213714a",
        "colab": {
          "base_uri": "https://localhost:8080/",
          "height": 282
        }
      },
      "source": [
        "plt.plot(data_sealevel[\"Time\"],data_sealevel[\"GMSL\"])\n",
        "#eksenleri adlandır ,ölçeklendir"
      ],
      "execution_count": 0,
      "outputs": [
        {
          "output_type": "execute_result",
          "data": {
            "text/plain": [
              "[<matplotlib.lines.Line2D at 0x7f6b37b89ba8>]"
            ]
          },
          "metadata": {
            "tags": []
          },
          "execution_count": 285
        },
        {
          "output_type": "display_data",
          "data": {
            "image/png": "[encoded data removed]",
            "text/plain": [
              "<Figure size 432x288 with 1 Axes>"
            ]
          },
          "metadata": {
            "tags": [],
            "needs_background": "light"
          }
        }
      ]
    },
    {
      "cell_type": "code",
      "metadata": {
        "id": "TP-sTq7AvkUg",
        "colab_type": "code",
        "colab": {}
      },
      "source": [
        "abd_aft2014 = sum(data3[(data3[\"Code\"] == \"USA\") & (data3[\"Year\"] >= 2014)][\"Annual CO₂ emissions (tonnes)\"])\n",
        "Cin_aft2014 = sum(data3[(data3[\"Entity\"] == \"China\") & (data3[\"Year\"] >= 2014)][\"Annual CO₂ emissions (tonnes)\"])\n",
        "AB_aft2014 = sum(data3[(data3[\"Entity\"] == \"EU-28\") & (data3[\"Year\"] >= 2014)][\"Annual CO₂ emissions (tonnes)\"])\n",
        "Hindistan_aft2014 = sum(data3[(data3[\"Entity\"] == \"India\") & (data3[\"Year\"] >= 2014)][\"Annual CO₂ emissions (tonnes)\"])\n",
        "rusya_aft2014 = sum(data3[(data3[\"Entity\"] == \"Russia\") & (data3[\"Year\"] >= 2014)][\"Annual CO₂ emissions (tonnes)\"])\n",
        "japonya_aft2014 = sum(data3[(data3[\"Entity\"] == \"Japan\") & (data3[\"Year\"] >= 2014)][\"Annual CO₂ emissions (tonnes)\"])\n",
        "Turkiye_aft2014 = sum(data3[(data3[\"Entity\"] == \"Turkey\") & (data3[\"Year\"] >= 2014)][\"Annual CO₂ emissions (tonnes)\"])"
      ],
      "execution_count": 0,
      "outputs": []
    },
    {
      "cell_type": "code",
      "metadata": {
        "id": "nvzrYeUctgvT",
        "colab_type": "code",
        "outputId": "d89eb010-f91d-40f1-b444-d29b5326346a",
        "colab": {
          "base_uri": "https://localhost:8080/",
          "height": 644
        }
      },
      "source": [
        "data_by_emmision =[Cin_aft2014,abd_aft2014,AB_aft2014,Hindistan_aft2014,rusya_aft2014,japonya_aft2014,Turkiye_aft2014]\n",
        "plt.figure(figsize=(15,10))\n",
        "plt.bar([\"Çin\" ,\"ABD\",\"AB\",\"Hindistan\",\"Rusya\",\"Japonya\",\"Türkiye\"],\n",
        "        data_by_emmision,width=0.5,color=\"red\",label=\"Co2\")\n",
        "plt.ylabel(\"Co2 ton \", fontsize = 10)\n",
        "plt.xlabel(\"Ülkeler\", fontsize = 15)\n",
        "plt.legend(fontsize=14)\n",
        "plt.title(\"Ülkelerin CO2 salımları\",fontsize = 13)"
      ],
      "execution_count": 0,
      "outputs": [
        {
          "output_type": "execute_result",
          "data": {
            "text/plain": [
              "Text(0.5, 1.0, 'Ülkelerin CO2 salımları')"
            ]
          },
          "metadata": {
            "tags": []
          },
          "execution_count": 27
        },
        {
          "output_type": "display_data",
          "data": {
            "image/png": "[encoded data removed]",
            "text/plain": [
              "<Figure size 1080x720 with 1 Axes>"
            ]
          },
          "metadata": {
            "tags": [],
            "needs_background": "light"
          }
        }
      ]
    }
  ]
}